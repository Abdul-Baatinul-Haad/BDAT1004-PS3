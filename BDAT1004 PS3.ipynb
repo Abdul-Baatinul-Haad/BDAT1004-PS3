{
 "cells": [
  {
   "cell_type": "code",
   "execution_count": null,
   "id": "44e948be",
   "metadata": {},
   "outputs": [],
   "source": [
    "#Question 1, Steps 1, 2 and 3\n",
    "import pandas as pd\n",
    "users = pd.read_csv('https://raw.githubusercontent.com/justmarkham/DAT8/master/data/u.user', delimiter='|')\n",
    "users.head()"
   ]
  },
  {
   "cell_type": "code",
   "execution_count": null,
   "id": "235222a1",
   "metadata": {},
   "outputs": [],
   "source": [
    "#Question 1 Step 4\n",
    "occu_age_mean = users.groupby('occupation').agg({'age':['mean']})\n",
    "print(occu_age_mean)"
   ]
  },
  {
   "cell_type": "code",
   "execution_count": null,
   "id": "3105e4fe",
   "metadata": {},
   "outputs": [],
   "source": [
    "#Question 1 Step 5\n",
    "users[users['gender']=='M'].groupby('occupation')['gender'].count().sort_values(ascending=False)\n"
   ]
  },
  {
   "cell_type": "code",
   "execution_count": null,
   "id": "768550c4",
   "metadata": {},
   "outputs": [],
   "source": [
    "#Question 1 Step 6\n",
    "occu_age_minmax = users.groupby('occupation').agg({'age':['min', 'max']})\n",
    "print(occu_age_minmax)"
   ]
  },
  {
   "cell_type": "code",
   "execution_count": null,
   "id": "3a645fef",
   "metadata": {},
   "outputs": [],
   "source": [
    "#Question 1 Step 7\n",
    "users.groupby(['occupation','gender'])['age'].mean()"
   ]
  },
  {
   "cell_type": "code",
   "execution_count": null,
   "id": "6a899a26",
   "metadata": {},
   "outputs": [],
   "source": [
    "#Question 1 Step 8\n",
    "import math\n",
    "gen_count = users.groupby(['occupation','gender'])['gender'].count()\n",
    "percentage = gen_count.groupby(level=0).apply(lambda x: round(100 * x / x.sum(),2))\n",
    "percentage"
   ]
  },
  {
   "cell_type": "code",
   "execution_count": null,
   "id": "1e62671e",
   "metadata": {},
   "outputs": [],
   "source": [
    "#Question 2, Steps 1, 2 and 3\n",
    "import pandas as pd\n",
    "euro12 = pd.read_csv('https://raw.githubusercontent.com/guipsamora/pandas_exercises/master/02_Filtering_%26_Sorting/Euro12/Euro_2012_stats_TEAM.csv')\n",
    "euro12.head()\n"
   ]
  },
  {
   "cell_type": "code",
   "execution_count": null,
   "id": "0039408a",
   "metadata": {},
   "outputs": [],
   "source": [
    "#Question 2, Step 4\n",
    "euro12['Goals']"
   ]
  },
  {
   "cell_type": "code",
   "execution_count": null,
   "id": "18088636",
   "metadata": {},
   "outputs": [],
   "source": [
    "#Question 2, Step 5\n",
    "print (\"Number of teams =\",euro12['Team'].count())"
   ]
  },
  {
   "cell_type": "code",
   "execution_count": null,
   "id": "583c4472",
   "metadata": {},
   "outputs": [],
   "source": [
    "#Question 2, Step 6\n",
    "print(\"Number of Columns =\", euro12.shape[1])"
   ]
  },
  {
   "cell_type": "code",
   "execution_count": null,
   "id": "28f8125a",
   "metadata": {},
   "outputs": [],
   "source": [
    "#Question 2, Step 7\n",
    "discipline = euro12[['Team', 'Yellow Cards', 'Red Cards']]\n",
    "discipline.head()"
   ]
  },
  {
   "cell_type": "code",
   "execution_count": 85,
   "id": "f4e3eaf2",
   "metadata": {},
   "outputs": [],
   "source": [
    "#Question 2, Step 8\n"
   ]
  },
  {
   "cell_type": "code",
   "execution_count": null,
   "id": "f8eefdf6",
   "metadata": {},
   "outputs": [],
   "source": [
    "#Question 2, Step 9\n",
    "discipline.groupby('Team')['Yellow Cards'].mean()"
   ]
  },
  {
   "cell_type": "code",
   "execution_count": null,
   "id": "80f4270e",
   "metadata": {},
   "outputs": [],
   "source": [
    "#Question 2, step 10\n",
    "teamsGT6 = euro12[(euro12.Goals>6)]\n",
    "teamsGT6.head()"
   ]
  },
  {
   "cell_type": "code",
   "execution_count": null,
   "id": "6015929a",
   "metadata": {},
   "outputs": [],
   "source": [
    "#Question 2, Step 11\n",
    "teamsSW_G = euro12[euro12.Team.str[0]=='G']\n",
    "teamsSW_G.head()"
   ]
  },
  {
   "cell_type": "code",
   "execution_count": null,
   "id": "7a81aa80",
   "metadata": {},
   "outputs": [],
   "source": [
    "#Question 2, Step 12\n",
    "first7 = euro12[0:7]\n",
    "first7"
   ]
  },
  {
   "cell_type": "code",
   "execution_count": null,
   "id": "af54c177",
   "metadata": {},
   "outputs": [],
   "source": [
    "#Question 2 Step 13\n",
    "col_exc_last3 = euro12.iloc[:,0:32]\n",
    "col_exc_last3"
   ]
  },
  {
   "cell_type": "code",
   "execution_count": null,
   "id": "2908b479",
   "metadata": {},
   "outputs": [],
   "source": [
    "#Question 2, Step 14\n",
    "shoot_acc = euro12[['Team', 'Shooting Accuracy']]\n",
    "SA_4_EIR = shoot_acc[shoot_acc.Team.isin([\"England\",\"Italy\", \"Russia\"])]\n",
    "SA_4_EIR"
   ]
  },
  {
   "cell_type": "code",
   "execution_count": null,
   "id": "037508cb",
   "metadata": {},
   "outputs": [],
   "source": [
    "#Question 3, Steps 1, 2 and 3\n",
    "import pandas as pd\n",
    "import numpy as np\n",
    "\n",
    "\n",
    "serie1 = pd.Series(np.random.randint(1,5,size=100)) #inclusive of 4\n",
    "serie2 = pd.Series(np.random.randint(1,4,size=100)) # inclusive of 3\n",
    "serie3 = pd.Series(np.random.randint(10000,30001,size = 100)) # inclusive of 30000\n",
    "\n",
    "df1 = pd.DataFrame({'bedrs':serie1, 'bathrs':serie2, 'price_sqr_meter':serie3})\n",
    "df1"
   ]
  },
  {
   "cell_type": "code",
   "execution_count": null,
   "id": "c9677823",
   "metadata": {},
   "outputs": [],
   "source": [
    "#Question 3, steps 5, 6 and 7\n",
    "serielist = serie1\n",
    "serielist2 = serielist.append(serie2)\n",
    "totalserielist = serielist2.append(serie3)\n",
    "bigcolumn = pd.DataFrame({'Big Column': totalserielist})\n",
    "bigcolumn"
   ]
  },
  {
   "cell_type": "code",
   "execution_count": null,
   "id": "4cc1366a",
   "metadata": {},
   "outputs": [],
   "source": [
    "# Question 4, Steps 1, 2, 3, 4 and 5\n",
    "import pandas as pd\n",
    "import numpy as np\n",
    "import datetime\n",
    "\n",
    "data = pd.read_fwf('wind.txt')\n",
    "date = data.apply(lambda x: datetime.date(int(x['Yr']+1900), int(x['Mo']), int(x['Dy'])),axis=1)\n",
    "date = date.astype('datetime64[ns]')\n",
    "data = data.drop(columns=['Yr', 'Mo', 'Dy'])\n",
    "data.insert(0, 'Date',date)\n",
    "data"
   ]
  },
  {
   "cell_type": "code",
   "execution_count": null,
   "id": "cd6ebc01",
   "metadata": {},
   "outputs": [],
   "source": [
    "#Question 4,Step 6\n",
    "data.isnull().sum()"
   ]
  },
  {
   "cell_type": "code",
   "execution_count": 51,
   "id": "ffee4793",
   "metadata": {},
   "outputs": [
    {
     "data": {
      "text/plain": [
       "85431"
      ]
     },
     "execution_count": 51,
     "metadata": {},
     "output_type": "execute_result"
    }
   ],
   "source": [
    "#Question4, Step 7\n",
    "data.notnull().sum().sum()"
   ]
  },
  {
   "cell_type": "code",
   "execution_count": 100,
   "id": "c7d5046f",
   "metadata": {},
   "outputs": [
    {
     "name": "stdout",
     "output_type": "stream",
     "text": [
      "10.223015788133434\n"
     ]
    }
   ],
   "source": [
    "#Question 4, Step 8\n",
    "# remove rows with null values\n",
    "data.dropna(inplace=True)\n",
    "#check if they have been removed successfuly\n",
    "data.isnull().sum().sum()\n",
    "\n",
    "data_nodate = data.iloc[1:,1:13]\n",
    "mean =  meandata.sum().sum() / meandata.count().sum()\n",
    "print(mean)"
   ]
  },
  {
   "cell_type": "code",
   "execution_count": null,
   "id": "e75467bf",
   "metadata": {},
   "outputs": [],
   "source": [
    "#Question 4, Step 9\n",
    "loc_stat = data_nodate.aggregate(['min','max','mean','std'])\n",
    "loc_stat"
   ]
  },
  {
   "cell_type": "code",
   "execution_count": null,
   "id": "53d044ed",
   "metadata": {},
   "outputs": [],
   "source": [
    "#Question 4, Step 10\n",
    "day_stat= data.groupby('Date').aggregate(['min','max','mean','std'])\n",
    "day_stat"
   ]
  },
  {
   "cell_type": "code",
   "execution_count": 106,
   "id": "6c28f849",
   "metadata": {},
   "outputs": [
    {
     "data": {
      "text/html": [
       "<div>\n",
       "<style scoped>\n",
       "    .dataframe tbody tr th:only-of-type {\n",
       "        vertical-align: middle;\n",
       "    }\n",
       "\n",
       "    .dataframe tbody tr th {\n",
       "        vertical-align: top;\n",
       "    }\n",
       "\n",
       "    .dataframe thead th {\n",
       "        text-align: right;\n",
       "    }\n",
       "</style>\n",
       "<table border=\"1\" class=\"dataframe\">\n",
       "  <thead>\n",
       "    <tr style=\"text-align: right;\">\n",
       "      <th></th>\n",
       "      <th>RPT</th>\n",
       "      <th>VAL</th>\n",
       "      <th>ROS</th>\n",
       "      <th>KIL</th>\n",
       "      <th>SHA</th>\n",
       "      <th>BIR</th>\n",
       "      <th>DUB</th>\n",
       "      <th>CLA</th>\n",
       "      <th>MUL</th>\n",
       "      <th>CLO</th>\n",
       "      <th>BEL</th>\n",
       "      <th>MAL</th>\n",
       "    </tr>\n",
       "  </thead>\n",
       "  <tbody>\n",
       "    <tr>\n",
       "      <th>mean</th>\n",
       "      <td>14.831609</td>\n",
       "      <td>12.885389</td>\n",
       "      <td>13.276275</td>\n",
       "      <td>7.152477</td>\n",
       "      <td>11.644467</td>\n",
       "      <td>8.030561</td>\n",
       "      <td>11.788336</td>\n",
       "      <td>9.486962</td>\n",
       "      <td>9.511501</td>\n",
       "      <td>10.024069</td>\n",
       "      <td>14.527848</td>\n",
       "      <td>18.041826</td>\n",
       "    </tr>\n",
       "  </tbody>\n",
       "</table>\n",
       "</div>"
      ],
      "text/plain": [
       "            RPT        VAL        ROS       KIL        SHA       BIR  \\\n",
       "mean  14.831609  12.885389  13.276275  7.152477  11.644467  8.030561   \n",
       "\n",
       "            DUB       CLA       MUL        CLO        BEL        MAL  \n",
       "mean  11.788336  9.486962  9.511501  10.024069  14.527848  18.041826  "
      ]
     },
     "execution_count": 106,
     "metadata": {},
     "output_type": "execute_result"
    }
   ],
   "source": [
    "#Question 4, Step 11\n",
    "data['Month'] = data['Date'].dt.month\n",
    "jan_data = data[(data.Month == 1)]\n",
    "jan_data.aggregate({\"RPT\":['mean'],\"VAL\":['mean'],\"ROS\":['mean'],\"KIL\":['mean'],\"SHA\":['mean'],\"BIR\":['mean'],\"DUB\":['mean'],\n",
    "                   \"CLA\":['mean'],\"MUL\":['mean'],\"CLO\":['mean'],\"BEL\":['mean'],\"MAL\":['mean']})"
   ]
  },
  {
   "cell_type": "code",
   "execution_count": null,
   "id": "98f264af",
   "metadata": {},
   "outputs": [],
   "source": [
    "#Question 5, Steps 1, 2, 3, and 4\n",
    "import pandas as pd\n",
    "import numpy as np\n",
    "\n",
    "chipo = pd.read_csv('https://raw.githubusercontent.com/justmarkham/DAT8/master/data/chipotle.tsv', delimiter = '\\t')\n",
    "chipo[0:10]"
   ]
  },
  {
   "cell_type": "code",
   "execution_count": 260,
   "id": "642d0a1c",
   "metadata": {},
   "outputs": [
    {
     "data": {
      "text/plain": [
       "4622"
      ]
     },
     "execution_count": 260,
     "metadata": {},
     "output_type": "execute_result"
    }
   ],
   "source": [
    "#Question 5, step 5\n",
    "print('Number of Observations='chipo.shape[0]"
   ]
  },
  {
   "cell_type": "code",
   "execution_count": 138,
   "id": "78c6d44c",
   "metadata": {},
   "outputs": [
    {
     "name": "stdout",
     "output_type": "stream",
     "text": [
      "Number of Columns = 5\n"
     ]
    }
   ],
   "source": [
    "#Question 5, Step 6\n",
    "print(\"Number of Columns =\",chipo.shape[1])"
   ]
  },
  {
   "cell_type": "code",
   "execution_count": 140,
   "id": "05b9c660",
   "metadata": {},
   "outputs": [
    {
     "name": "stdout",
     "output_type": "stream",
     "text": [
      "Index(['order_id', 'quantity', 'item_name', 'choice_description',\n",
      "       'item_price'],\n",
      "      dtype='object')\n"
     ]
    }
   ],
   "source": [
    "#Question 5, step 7\n",
    "chipo.columns"
   ]
  },
  {
   "cell_type": "code",
   "execution_count": 141,
   "id": "fda5c478",
   "metadata": {},
   "outputs": [
    {
     "data": {
      "text/plain": [
       "RangeIndex(start=0, stop=4622, step=1)"
      ]
     },
     "execution_count": 141,
     "metadata": {},
     "output_type": "execute_result"
    }
   ],
   "source": [
    "#Question 5, step 8\n",
    "chipo.index"
   ]
  },
  {
   "cell_type": "code",
   "execution_count": 137,
   "id": "0e6da17c",
   "metadata": {},
   "outputs": [
    {
     "data": {
      "text/plain": [
       "item_name\n",
       "Chips and Fresh Tomato Salsa    15\n",
       "Name: quantity, dtype: int64"
      ]
     },
     "execution_count": 137,
     "metadata": {},
     "output_type": "execute_result"
    }
   ],
   "source": [
    "#Question 5, Steps 9 and 10\n",
    "most_ordered_item = chipo.groupby('item_name')['quantity'].max().sort_values(ascending = False)\n",
    "most_ordered_item[:1]"
   ]
  },
  {
   "cell_type": "code",
   "execution_count": null,
   "id": "5770fd30",
   "metadata": {},
   "outputs": [],
   "source": [
    "#Question 5, Step 11\n",
    "chipo.groupby('choice_description').max()"
   ]
  },
  {
   "cell_type": "code",
   "execution_count": 131,
   "id": "3853de7b",
   "metadata": {},
   "outputs": [
    {
     "name": "stdout",
     "output_type": "stream",
     "text": [
      "Total Number of Items =  4972\n"
     ]
    }
   ],
   "source": [
    "#Question 5, Step 12\n",
    "print(\"Total Number of Items = \",chipo['quantity'].sum())"
   ]
  },
  {
   "cell_type": "code",
   "execution_count": null,
   "id": "8f3b9565",
   "metadata": {},
   "outputs": [],
   "source": [
    "#Question 5, step 13\n",
    "\n",
    "#first check datapye of item_price\n",
    "print(chipo.dtypes)\n",
    "\n",
    "#now create a convertion dictionary to change item_price to float\n",
    "conv_dic = {'item_price':float}\n",
    "chipo_price_float = chipo.astype(conv_dic)\n",
    "print(chipo_price_float.dtypes)\n",
    "chipo['item_price'] = chipo.apply(lambda x: float(x['item_price'].replace('$', '')),axis=1)\n",
    "print(chipo.dtypes)"
   ]
  },
  {
   "cell_type": "code",
   "execution_count": 160,
   "id": "2ef665b3",
   "metadata": {},
   "outputs": [
    {
     "name": "stdout",
     "output_type": "stream",
     "text": [
      "Revenue = $ 39237.02\n"
     ]
    }
   ],
   "source": [
    "#Question 5, step 14\n",
    "#first multiply quantity and price columns\n",
    "\n",
    "chipo['Q*P'] = chipo['quantity'] * chipo['item_price']\n",
    "\n",
    "#then sum the multiplied column to get revenue\n",
    "revenue = chipo['Q*P'].sum()\n",
    "print('Revenue = $',revenue)"
   ]
  },
  {
   "cell_type": "code",
   "execution_count": 162,
   "id": "36455d57",
   "metadata": {},
   "outputs": [
    {
     "name": "stdout",
     "output_type": "stream",
     "text": [
      "Number of Orders =  4972\n"
     ]
    }
   ],
   "source": [
    "#Question 5, step 15\n",
    "\n",
    "#number of orders = total quantity ordered\n",
    "tot_order = chipo['quantity'].sum()\n",
    "print('Number of Orders = ',tot_order)"
   ]
  },
  {
   "cell_type": "code",
   "execution_count": null,
   "id": "ec2ea4ad",
   "metadata": {},
   "outputs": [],
   "source": [
    "#Question 5, step 16\n",
    "chipo.groupby(['item_name','quantity'])['item_price'].mean()"
   ]
  },
  {
   "cell_type": "code",
   "execution_count": 170,
   "id": "fdd2e8d2",
   "metadata": {},
   "outputs": [
    {
     "name": "stdout",
     "output_type": "stream",
     "text": [
      "Number of different items sold =  50\n"
     ]
    }
   ],
   "source": [
    "#Question 5, step 17\n",
    "n = chipo.item_name.nunique()\n",
    "print ('Number of different items sold = ', n)"
   ]
  },
  {
   "cell_type": "code",
   "execution_count": null,
   "id": "78a9ddff",
   "metadata": {},
   "outputs": [],
   "source": [
    "#Question 6\n",
    "import matplotlib.pyplot as plt\n",
    "%matplotlib inline\n",
    "\n",
    "us_mar_div = pd.read_csv('us-marriages-divorces-1867-2014.csv')\n",
    "\n",
    "#set columns to plot\n",
    "columns = us_mar_div.columns.drop(['Year','Marriages', 'Divorces','Population'])\n",
    "\n",
    "x_data = range(0, us_mar_div.shape[0])\n",
    "\n",
    "fig, ax = plt.subplots()\n",
    "for column in columns:\n",
    "    ax.plot(x_data, us_mar_div[column])\n",
    "\n",
    "ax.set_title('Marriages / Divorce per Capita')\n",
    "ax.legend(columns)\n",
    "ax.set_xlabel('Years 1867 - 2014')\n",
    "ax.set_ylabel('Count')"
   ]
  },
  {
   "cell_type": "code",
   "execution_count": null,
   "id": "e2c95463",
   "metadata": {},
   "outputs": [],
   "source": [
    "#Question 7\n",
    "allyear = us_mar_div[['Year', 'Marriages_per_1000', 'Divorces_per_1000']]\n",
    "#allyear\n",
    "year3_comp = allyear[allyear.Year.isin([1900,1950,2000])]\n",
    "#SA_4_EIR = shoot_acc[shoot_acc.Team.isin([\"England\",\"Italy\", \"Russia\"])]\n",
    "import plotly.graph_objects as go\n",
    "\n",
    "fig = go.Figure(data=[\n",
    "    go.Bar(name='Marriages per Capita', x=year3_comp['Year'], y=year3_comp['Marriages_per_1000']),\n",
    "    go.Bar(name='Divorces per Capita', x=year3_comp['Year'], y=year3_comp['Divorces_per_1000'])\n",
    "])\n",
    "# Change the bar mode\n",
    "fig.update_layout(barmode='group')\n",
    "fig.show()"
   ]
  },
  {
   "cell_type": "code",
   "execution_count": null,
   "id": "2bd35ecd",
   "metadata": {},
   "outputs": [],
   "source": [
    "#Question 8\n",
    "import matplotlib.pyplot as plt\n",
    "import numpy as np\n",
    "%matplotlib inline\n",
    "\n",
    "actors = pd.read_csv('actor_kill_counts.csv')\n",
    "\n",
    "actor = actors['Actor']\n",
    "count = actors['Count']\n",
    "#ax = actors['Actor'].('Count').sort_index()\n",
    "\n",
    "colours = ['#C4E57D','#2AC280','#FFAE39','#DC5B3B','#52E397','#C5CBA3','#9CD5F6','#6E50D9','#9A5E59','#9BC8F5']\n",
    "   \n",
    "plt.barh(actor,count, align='center', color=colours)\n",
    "plt.title('Actors and their kill counts')\n",
    "plt.ylabel('Actors')\n",
    "plt.xlabel('Kill Count')\n",
    "plt.show\n"
   ]
  },
  {
   "cell_type": "code",
   "execution_count": null,
   "id": "18c02274",
   "metadata": {},
   "outputs": [],
   "source": [
    "#Question 9\n",
    "import plotly.express as px\n",
    "\n",
    "emperors = pd.read_csv('roman-emperor-reigns.csv')\n",
    "\n",
    "fig = px.pie(emperors,  names='Cause_of_Death')\n",
    "fig.show()"
   ]
  },
  {
   "cell_type": "code",
   "execution_count": null,
   "id": "8db51588",
   "metadata": {},
   "outputs": [],
   "source": [
    "#Question 10\n",
    "import seaborn as sns\n",
    "\n",
    "arc_vs_cs = pd.read_csv('arcade-revenue-vs-cs-doctorates.csv')\n",
    "sns.scatterplot(x='Total Arcade Revenue (billions)', y='Computer Science Doctorates Awarded (US)', hue='Year', palette ='deep',data=arc_vs_cs)\n"
   ]
  },
  {
   "cell_type": "code",
   "execution_count": null,
   "id": "7bc837a4",
   "metadata": {},
   "outputs": [],
   "source": []
  }
 ],
 "metadata": {
  "kernelspec": {
   "display_name": "Python 3 (ipykernel)",
   "language": "python",
   "name": "python3"
  },
  "language_info": {
   "codemirror_mode": {
    "name": "ipython",
    "version": 3
   },
   "file_extension": ".py",
   "mimetype": "text/x-python",
   "name": "python",
   "nbconvert_exporter": "python",
   "pygments_lexer": "ipython3",
   "version": "3.9.7"
  }
 },
 "nbformat": 4,
 "nbformat_minor": 5
}
